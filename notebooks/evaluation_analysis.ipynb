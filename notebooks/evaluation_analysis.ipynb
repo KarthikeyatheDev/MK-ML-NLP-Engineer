{
  "nbformat": 4,
  "nbformat_minor": 0,
  "metadata": {
    "colab": {
      "provenance": []
    },
    "kernelspec": {
      "name": "python3",
      "display_name": "Python 3"
    },
    "language_info": {
      "name": "python"
    }
  },
  "cells": [
    {
      "cell_type": "code",
      "source": [
        "def compute_metrics(eval_pred):\n",
        "    logits, labels = eval_pred\n",
        "    predictions = logits.argmax(axis=1)\n",
        "    acc = accuracy_score(labels, predictions)\n",
        "    precision, recall, f1, _ = precision_recall_fscore_support(\n",
        "        labels, predictions, average=\"binary\"\n",
        "    )\n",
        "    return {\n",
        "        \"accuracy\": acc,\n",
        "        \"f1\": f1,\n",
        "        \"precision\": precision,\n",
        "        \"recall\": recall\n",
        "    }\n"
      ],
      "metadata": {
        "id": "WFDj-1WbL2tN"
      },
      "execution_count": null,
      "outputs": []
    },
    {
      "cell_type": "code",
      "source": [
        "results = trainer.evaluate()\n",
        "print(\"Evaluation Results:\", results)"
      ],
      "metadata": {
        "id": "iAvo6vRAL-Lj",
        "colab": {
          "base_uri": "https://localhost:8080/",
          "height": 74
        },
        "outputId": "bee40f7e-6d6a-48eb-f1c6-d49fe144a8f3"
      },
      "execution_count": null,
      "outputs": [
        {
          "output_type": "display_data",
          "data": {
            "text/plain": [
              "<IPython.core.display.HTML object>"
            ],
            "text/html": [
              "\n",
              "    <div>\n",
              "      \n",
              "      <progress value='125' max='125' style='width:300px; height:20px; vertical-align: middle;'></progress>\n",
              "      [125/125 00:01]\n",
              "    </div>\n",
              "    "
            ]
          },
          "metadata": {}
        },
        {
          "output_type": "stream",
          "name": "stdout",
          "text": [
            "Evaluation Results: {'eval_loss': 0.15105511248111725, 'eval_accuracy': 0.973, 'eval_f1': 0.975653742110009, 'eval_precision': 0.9818511796733213, 'eval_recall': 0.9695340501792115, 'eval_runtime': 1.1424, 'eval_samples_per_second': 875.332, 'eval_steps_per_second': 109.416, 'epoch': 5.0}\n"
          ]
        }
      ]
    },
    {
      "cell_type": "code",
      "source": [
        "# Get predictions from the trainer\n",
        "predictions_output = trainer.predict(tokenized_dataset[\"test\"])\n",
        "\n",
        "# Extract predicted labels\n",
        "predicted_labels = predictions_output.predictions.argmax(axis=1)\n",
        "\n",
        "# Extract true labels\n",
        "true_labels = predictions_output.label_ids\n"
      ],
      "metadata": {
        "colab": {
          "base_uri": "https://localhost:8080/",
          "height": 17
        },
        "id": "UHeH6v4iXze5",
        "outputId": "0ff97453-0eec-457c-ecdf-2547115211ef"
      },
      "execution_count": null,
      "outputs": [
        {
          "output_type": "display_data",
          "data": {
            "text/plain": [
              "<IPython.core.display.HTML object>"
            ],
            "text/html": []
          },
          "metadata": {}
        }
      ]
    },
    {
      "cell_type": "code",
      "source": [
        "from sklearn.metrics import confusion_matrix, ConfusionMatrixDisplay\n",
        "import matplotlib.pyplot as plt\n",
        "import os\n",
        "\n",
        "\n",
        "# Compute confusion matrix\n",
        "cm = confusion_matrix(true_labels, predicted_labels)\n",
        "\n",
        "# Plot confusion matrix\n",
        "disp = ConfusionMatrixDisplay(confusion_matrix=cm, display_labels=[\"HAM\", \"SPAM\"])\n",
        "disp.plot(cmap=plt.cm.Blues)\n",
        "\n",
        "# Save the figure\n",
        "plt.savefig(\"Confusion_Matrix.png\")\n",
        "plt.show()\n",
        "\n",
        "print(\"✅ Confusion matrix saved to reports/confusion_matrix.png\")\n"
      ],
      "metadata": {
        "colab": {
          "base_uri": "https://localhost:8080/",
          "height": 466
        },
        "id": "WdlPcpvMZOq0",
        "outputId": "05a8554e-ec3d-4e67-cf7e-e992199c143b"
      },
      "execution_count": null,
      "outputs": [
        {
          "output_type": "display_data",
          "data": {
            "text/plain": [
              "<Figure size 640x480 with 2 Axes>"
            ],
            "image/png": "[encoded data removed]"
          },
          "metadata": {}
        },
        {
          "output_type": "stream",
          "name": "stdout",
          "text": [
            "✅ Confusion matrix saved to reports/confusion_matrix.png\n"
          ]
        }
      ]
    },
    {
      "cell_type": "code",
      "source": [
        "import torch\n",
        "import pickle\n",
        "\n",
        "# Save model weights\n",
        "torch.save(model.state_dict(), \"spam_model_weights.pth\")\n",
        "\n",
        "# Save tokenizer separately using pickle\n",
        "with open(\"tokenizer.pkl\", \"wb\") as f:\n",
        "    pickle.dump(tokenizer, f)\n",
        "\n",
        "print(\"✅ Model and tokenizer saved as spam_model_weights.pth and tokenizer.pkl\")\n"
      ],
      "metadata": {
        "colab": {
          "base_uri": "https://localhost:8080/"
        },
        "id": "FrY_PKZ9cpZn",
        "outputId": "8b32a8ff-b34d-4fba-eb84-3e16cf0d1d3e"
      },
      "execution_count": null,
      "outputs": [
        {
          "output_type": "stream",
          "name": "stdout",
          "text": [
            "✅ Model and tokenizer saved as spam_model_weights.pth and tokenizer.pkl\n"
          ]
        }
      ]
    }
  ]
}